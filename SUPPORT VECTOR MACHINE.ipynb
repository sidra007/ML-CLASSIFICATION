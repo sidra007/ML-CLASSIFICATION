{
  "nbformat": 4,
  "nbformat_minor": 0,
  "metadata": {
    "colab": {
      "name": "Untitled0.ipynb",
      "provenance": [],
      "authorship_tag": "ABX9TyMxsliwr+ktdPq/NXnf6nNp"
    },
    "kernelspec": {
      "name": "python3",
      "display_name": "Python 3"
    }
  },
  "cells": [
    {
      "cell_type": "markdown",
      "metadata": {
        "id": "xOJs0SgHD-p_"
      },
      "source": [
        "# SUPPORT VECTOR MACHINE"
      ]
    },
    {
      "cell_type": "markdown",
      "metadata": {
        "id": "JAuFO2KlZSTk"
      },
      "source": [
        "IMPORTING LIBRARIES"
      ]
    },
    {
      "cell_type": "code",
      "metadata": {
        "id": "OEIdnJ8UCNC4"
      },
      "source": [
        "import numpy as np\n",
        "import pandas as pd\n",
        "from matplotlib import pyplot as plt\n",
        "##### for color mapping\n",
        "import matplotlib.cm as cm\n",
        "#### the library of today is svm while we are using buildin datasets from sklearn\n",
        "from sklearn import svm,datasets\n",
        "##### \n",
        "from sklearn.model_selection import train_test_split\n",
        "from sklearn.metrics import confusion_matrix,accuracy_score "
      ],
      "execution_count": 1,
      "outputs": []
    },
    {
      "cell_type": "markdown",
      "metadata": {
        "id": "MyY-FFW2ZU_u"
      },
      "source": [
        "LOADING BUILDIN SKILEARN DATASATS OF DIGITS "
      ]
    },
    {
      "cell_type": "code",
      "metadata": {
        "id": "zePCRmUIFM9S"
      },
      "source": [
        "digits= datasets.load_digits()\n"
      ],
      "execution_count": 3,
      "outputs": []
    },
    {
      "cell_type": "markdown",
      "metadata": {
        "id": "kwYM9p7pZk81"
      },
      "source": [
        "**DONE ONLY FOR UNDERSTANDING ZIO FUNCTION (NOT INCLUDED IN THIS PROJECT)bold text**"
      ]
    },
    {
      "cell_type": "code",
      "metadata": {
        "id": "EUNP0NG6JOXy",
        "outputId": "19d77a6b-9f63-480c-adf9-b3d6987e708d",
        "colab": {
          "base_uri": "https://localhost:8080/",
          "height": 34
        }
      },
      "source": [
        "#####this cell is only for understanding zip \n",
        "x=[1,2,3,4]\n",
        "y=['a','b','c','d']\n",
        "zip(x,y)  #it will return \n",
        "list(zip(x,y)) # it will return in list form"
      ],
      "execution_count": 6,
      "outputs": [
        {
          "output_type": "execute_result",
          "data": {
            "text/plain": [
              "[(1, 'a'), (2, 'b'), (3, 'c'), (4, 'd')]"
            ]
          },
          "metadata": {
            "tags": []
          },
          "execution_count": 6
        }
      ]
    },
    {
      "cell_type": "markdown",
      "metadata": {
        "id": "XxzglaMeZzGG"
      },
      "source": [
        "CREATE LIST USING ZIP"
      ]
    },
    {
      "cell_type": "code",
      "metadata": {
        "id": "u8jxNAqCLLJc"
      },
      "source": [
        "images_and_labels=list(zip(digits.images,digits.target))"
      ],
      "execution_count": 9,
      "outputs": []
    },
    {
      "cell_type": "markdown",
      "metadata": {
        "id": "-lWtOSp1Z_M7"
      },
      "source": [
        "VIEWING DIGITS.IMAGES"
      ]
    },
    {
      "cell_type": "code",
      "metadata": {
        "id": "Y_GpTCR0Lg2z",
        "outputId": "0354fbdf-6f4b-4746-a6e9-2d1492929bc1",
        "colab": {
          "base_uri": "https://localhost:8080/",
          "height": 850
        }
      },
      "source": [
        "digits.images"
      ],
      "execution_count": 16,
      "outputs": [
        {
          "output_type": "execute_result",
          "data": {
            "text/plain": [
              "array([[[ 0.,  0.,  5., ...,  1.,  0.,  0.],\n",
              "        [ 0.,  0., 13., ..., 15.,  5.,  0.],\n",
              "        [ 0.,  3., 15., ..., 11.,  8.,  0.],\n",
              "        ...,\n",
              "        [ 0.,  4., 11., ..., 12.,  7.,  0.],\n",
              "        [ 0.,  2., 14., ..., 12.,  0.,  0.],\n",
              "        [ 0.,  0.,  6., ...,  0.,  0.,  0.]],\n",
              "\n",
              "       [[ 0.,  0.,  0., ...,  5.,  0.,  0.],\n",
              "        [ 0.,  0.,  0., ...,  9.,  0.,  0.],\n",
              "        [ 0.,  0.,  3., ...,  6.,  0.,  0.],\n",
              "        ...,\n",
              "        [ 0.,  0.,  1., ...,  6.,  0.,  0.],\n",
              "        [ 0.,  0.,  1., ...,  6.,  0.,  0.],\n",
              "        [ 0.,  0.,  0., ..., 10.,  0.,  0.]],\n",
              "\n",
              "       [[ 0.,  0.,  0., ..., 12.,  0.,  0.],\n",
              "        [ 0.,  0.,  3., ..., 14.,  0.,  0.],\n",
              "        [ 0.,  0.,  8., ..., 16.,  0.,  0.],\n",
              "        ...,\n",
              "        [ 0.,  9., 16., ...,  0.,  0.,  0.],\n",
              "        [ 0.,  3., 13., ..., 11.,  5.,  0.],\n",
              "        [ 0.,  0.,  0., ..., 16.,  9.,  0.]],\n",
              "\n",
              "       ...,\n",
              "\n",
              "       [[ 0.,  0.,  1., ...,  1.,  0.,  0.],\n",
              "        [ 0.,  0., 13., ...,  2.,  1.,  0.],\n",
              "        [ 0.,  0., 16., ..., 16.,  5.,  0.],\n",
              "        ...,\n",
              "        [ 0.,  0., 16., ..., 15.,  0.,  0.],\n",
              "        [ 0.,  0., 15., ..., 16.,  0.,  0.],\n",
              "        [ 0.,  0.,  2., ...,  6.,  0.,  0.]],\n",
              "\n",
              "       [[ 0.,  0.,  2., ...,  0.,  0.,  0.],\n",
              "        [ 0.,  0., 14., ..., 15.,  1.,  0.],\n",
              "        [ 0.,  4., 16., ..., 16.,  7.,  0.],\n",
              "        ...,\n",
              "        [ 0.,  0.,  0., ..., 16.,  2.,  0.],\n",
              "        [ 0.,  0.,  4., ..., 16.,  2.,  0.],\n",
              "        [ 0.,  0.,  5., ..., 12.,  0.,  0.]],\n",
              "\n",
              "       [[ 0.,  0., 10., ...,  1.,  0.,  0.],\n",
              "        [ 0.,  2., 16., ...,  1.,  0.,  0.],\n",
              "        [ 0.,  0., 15., ..., 15.,  0.,  0.],\n",
              "        ...,\n",
              "        [ 0.,  4., 16., ..., 16.,  6.,  0.],\n",
              "        [ 0.,  8., 16., ..., 16.,  8.,  0.],\n",
              "        [ 0.,  1.,  8., ..., 12.,  1.,  0.]]])"
            ]
          },
          "metadata": {
            "tags": []
          },
          "execution_count": 16
        }
      ]
    },
    {
      "cell_type": "markdown",
      "metadata": {
        "id": "aFMSngPnaFK_"
      },
      "source": [
        "VIEWING DIGITS.TARGET"
      ]
    },
    {
      "cell_type": "code",
      "metadata": {
        "id": "wR5t70YmLuj0",
        "outputId": "e71dd9f4-9608-41fd-d557-cdd1c67dfdbb",
        "colab": {
          "base_uri": "https://localhost:8080/",
          "height": 34
        }
      },
      "source": [
        "digits.target"
      ],
      "execution_count": 17,
      "outputs": [
        {
          "output_type": "execute_result",
          "data": {
            "text/plain": [
              "array([0, 1, 2, ..., 8, 9, 8])"
            ]
          },
          "metadata": {
            "tags": []
          },
          "execution_count": 17
        }
      ]
    },
    {
      "cell_type": "markdown",
      "metadata": {
        "id": "1t0Hy3gEabXf"
      },
      "source": [
        "FINDING TOTAL LENGTH (NUMBER) OF SAMPLES"
      ]
    },
    {
      "cell_type": "code",
      "metadata": {
        "id": "xg3U7nZ4L1Ry",
        "outputId": "16f20117-1979-41c0-b9b7-593d0e950a0a",
        "colab": {
          "base_uri": "https://localhost:8080/",
          "height": 34
        }
      },
      "source": [
        "n_samples=len(digits.images)\n",
        "n_samples  # we have total 1797 images"
      ],
      "execution_count": 18,
      "outputs": [
        {
          "output_type": "execute_result",
          "data": {
            "text/plain": [
              "1797"
            ]
          },
          "metadata": {
            "tags": []
          },
          "execution_count": 18
        }
      ]
    },
    {
      "cell_type": "markdown",
      "metadata": {
        "id": "U3np1ebkak7A"
      },
      "source": [
        "CONVERTING EACH SAMPLE INTO 1D ARRAY(FLATTENING THE IMAGE)"
      ]
    },
    {
      "cell_type": "code",
      "metadata": {
        "id": "b3PQY7slMh0M",
        "outputId": "e1ce0833-dda1-4c6e-85f9-4a9a4a5f3084",
        "colab": {
          "base_uri": "https://localhost:8080/",
          "height": 136
        }
      },
      "source": [
        "data=digits.images.reshape(n_samples,-1)  # this will convert samples into 1d array (flatten).\n",
        "data  # As each image is of 8x8 therefore the data will be (1797 rows,8x8=64 columns) \n"
      ],
      "execution_count": 22,
      "outputs": [
        {
          "output_type": "execute_result",
          "data": {
            "text/plain": [
              "array([[ 0.,  0.,  5., ...,  0.,  0.,  0.],\n",
              "       [ 0.,  0.,  0., ..., 10.,  0.,  0.],\n",
              "       [ 0.,  0.,  0., ..., 16.,  9.,  0.],\n",
              "       ...,\n",
              "       [ 0.,  0.,  1., ...,  6.,  0.,  0.],\n",
              "       [ 0.,  0.,  2., ..., 12.,  0.,  0.],\n",
              "       [ 0.,  0., 10., ..., 12.,  1.,  0.]])"
            ]
          },
          "metadata": {
            "tags": []
          },
          "execution_count": 22
        }
      ]
    },
    {
      "cell_type": "code",
      "metadata": {
        "id": "Mt57M2aba1jW"
      },
      "source": [
        ""
      ],
      "execution_count": null,
      "outputs": []
    },
    {
      "cell_type": "markdown",
      "metadata": {
        "id": "M7HXEUHVayfp"
      },
      "source": [
        "SPILITTING DATA INTO TRAIN AND TEST BY USING A DIFFERENT TECHNIQUE.HERE WE CANNOT USE LIBRARY AS DATA IS IMAGE NOT TEXT. ALSO TRAIN THE MODEL"
      ]
    },
    {
      "cell_type": "code",
      "metadata": {
        "id": "1AufpPEPOXuY",
        "outputId": "65af0513-bae4-4526-8e9a-653fafbc5b46",
        "colab": {
          "base_uri": "https://localhost:8080/",
          "height": 85
        }
      },
      "source": [
        "# data------> x ------> features ----->(features_train,features_test)\n",
        "# digits----> y ------> target ------->(target_train,target_test)\n",
        "\n",
        "\n",
        "data_split=int(n_samples*0.75)  # 75% of samples(i.e.1347) is used for training and rest 25% for testing\n",
        "model=svm.SVC()\n",
        "model.fit(data[:data_split],digits.target[:data_split])  #model.fit(feature_train,target_train)\n",
        "          # from sample 0-1346     #from target 0-1346\n"
      ],
      "execution_count": 23,
      "outputs": [
        {
          "output_type": "execute_result",
          "data": {
            "text/plain": [
              "SVC(C=1.0, break_ties=False, cache_size=200, class_weight=None, coef0=0.0,\n",
              "    decision_function_shape='ovr', degree=3, gamma='scale', kernel='rbf',\n",
              "    max_iter=-1, probability=False, random_state=None, shrinking=True,\n",
              "    tol=0.001, verbose=False)"
            ]
          },
          "metadata": {
            "tags": []
          },
          "execution_count": 23
        }
      ]
    },
    {
      "cell_type": "markdown",
      "metadata": {
        "id": "f1wTCM27bbOK"
      },
      "source": [
        "TAKE 25% DATA AS TARGET_TEST"
      ]
    },
    {
      "cell_type": "code",
      "metadata": {
        "id": "6mXKxTnOSpR2"
      },
      "source": [
        "target_test=digits.target[data_split:] # taking digits from 1347 till end as test_target (i.e. 1797-1347 = 450 )\n"
      ],
      "execution_count": 26,
      "outputs": []
    },
    {
      "cell_type": "markdown",
      "metadata": {
        "id": "VmQBDjVubiOR"
      },
      "source": [
        "PREDICTING THE MODEL"
      ]
    },
    {
      "cell_type": "code",
      "metadata": {
        "id": "VrTyj9MTVtsy"
      },
      "source": [
        "predictions= model.predict(data[data_split:])  #model.predict(features_test)"
      ],
      "execution_count": 27,
      "outputs": []
    },
    {
      "cell_type": "markdown",
      "metadata": {
        "id": "DAOWDPjPbn8h"
      },
      "source": [
        "CONFUSION MATRIX. HERE WE HAVE 10 PREDICTED VALUES (0-9).\n",
        "OUTPUT IN 1ST ROW:\n",
        "42 IN 1ST COLUMN SHOWS THAT IT HAS PRDICTED 42 VALUES AS 0 WHICH ARE CORRECT\n",
        "THEN 1 IN 4TH COLUMN SHOWS THAT IT HAS WRONG PREDCITED VALUES AT THIS POSITION\n",
        "WHILE 0 SHOWS THAT IT HAS PREDICTED RIGHT VALUES AT THESE POSITIONS"
      ]
    },
    {
      "cell_type": "code",
      "metadata": {
        "id": "qwD7NTlMW35C",
        "outputId": "e532e29e-0050-4f10-a4b9-12d445346a4a",
        "colab": {
          "base_uri": "https://localhost:8080/",
          "height": 204
        }
      },
      "source": [
        "print(confusion_matrix(target_test,predictions))\n",
        "print(accuracy_score(target_test,predictions))"
      ],
      "execution_count": 28,
      "outputs": [
        {
          "output_type": "stream",
          "text": [
            "[[42  0  0  0  1  0  0  0  0  0]\n",
            " [ 0 46  0  0  0  0  0  0  0  0]\n",
            " [ 0  0 43  0  0  0  0  0  0  0]\n",
            " [ 0  0  0 37  0  2  0  2  6  0]\n",
            " [ 0  0  0  0 45  0  0  0  1  2]\n",
            " [ 0  0  0  0  0 44  1  0  0  0]\n",
            " [ 0  0  0  0  0  0 47  0  0  0]\n",
            " [ 0  0  0  0  0  0  0 44  1  0]\n",
            " [ 0  2  0  0  0  0  0  0 38  1]\n",
            " [ 0  0  0  1  0  1  0  1  1 41]]\n",
            "0.9488888888888889\n"
          ],
          "name": "stdout"
        }
      ]
    },
    {
      "cell_type": "markdown",
      "metadata": {
        "id": "7dbMfW4Tc1_k"
      },
      "source": [
        "VIUALIZING USING HEATMAP"
      ]
    },
    {
      "cell_type": "code",
      "metadata": {
        "id": "esfuEParXphI",
        "outputId": "d790a04e-8955-4c49-871b-5774f981fd21",
        "colab": {
          "base_uri": "https://localhost:8080/",
          "height": 282
        }
      },
      "source": [
        "import seaborn as sns\n",
        "sns.heatmap(confusion_matrix(target_test,predictions),annot=True,cmap='Greens')"
      ],
      "execution_count": 29,
      "outputs": [
        {
          "output_type": "execute_result",
          "data": {
            "text/plain": [
              "<matplotlib.axes._subplots.AxesSubplot at 0x7fe388d48b70>"
            ]
          },
          "metadata": {
            "tags": []
          },
          "execution_count": 29
        },
        {
          "output_type": "display_data",
          "data": {
            "image/png": "[encoded data removed]",
            "text/plain": [
              "<Figure size 432x288 with 2 Axes>"
            ]
          },
          "metadata": {
            "tags": [],
            "needs_background": "light"
          }
        }
      ]
    },
    {
      "cell_type": "markdown",
      "metadata": {
        "id": "sJIp-vIxc6Xg"
      },
      "source": [
        "SHOWING THE PREDICTED 5TH LAST IMAGE WITH ITS LABEL "
      ]
    },
    {
      "cell_type": "code",
      "metadata": {
        "id": "pjB3dSKoYAvQ",
        "outputId": "2687068b-3075-4681-9cbc-ffc9ad15d8dc",
        "colab": {
          "base_uri": "https://localhost:8080/",
          "height": 282
        }
      },
      "source": [
        "plt.imshow(digits.images[-5],   cmap = plt.cm.gray_r,   interpolation = \"nearest\")\n",
        "# show image       last 5th image   show in grey scale       leave it for now\n",
        "print(\"Prediction for test image:\", model.predict(data[-5].reshape(1,-1)))\n",
        "plt.show()\n"
      ],
      "execution_count": 36,
      "outputs": [
        {
          "output_type": "stream",
          "text": [
            "Prediction for test image: [9]\n"
          ],
          "name": "stdout"
        },
        {
          "output_type": "display_data",
          "data": {
            "image/png": "[encoded data removed]",
            "text/plain": [
              "<Figure size 432x288 with 1 Axes>"
            ]
          },
          "metadata": {
            "tags": [],
            "needs_background": "light"
          }
        }
      ]
    }
  ]
}