{
  "nbformat": 4,
  "nbformat_minor": 0,
  "metadata": {
    "colab": {
      "name": "Random _forest_Classifier.ipynb",
      "provenance": [],
      "collapsed_sections": [],
      "toc_visible": true,
      "mount_file_id": "1JBzP_UB8MNYOK_YmG80AVHbSH9Ulw82D",
      "authorship_tag": "ABX9TyPrAHdtvokkfZv+NAux1HZ3",
      "include_colab_link": true
    },
    "kernelspec": {
      "name": "python3",
      "display_name": "Python 3"
    },
    "accelerator": "TPU"
  },
  "cells": [
    {
      "cell_type": "markdown",
      "metadata": {
        "id": "view-in-github",
        "colab_type": "text"
      },
      "source": [
        "<a href=\"https://colab.research.google.com/github/sidra007/ML-CLASSIFICATION/blob/main/Random__forest_Classifier.ipynb\" target=\"_parent\"><img src=\"https://colab.research.google.com/assets/colab-badge.svg\" alt=\"Open In Colab\"/></a>"
      ]
    },
    {
      "cell_type": "markdown",
      "metadata": {
        "id": "HolcftKyGyu1"
      },
      "source": [
        "# **RANDOM FOREST CLASSIFIER**"
      ]
    },
    {
      "cell_type": "markdown",
      "metadata": {
        "id": "EES7bPCtQnm3"
      },
      "source": [
        "IMPOTING LIBRARIES"
      ]
    },
    {
      "cell_type": "code",
      "metadata": {
        "id": "w06uh4QiFOSA"
      },
      "source": [
        "import numpy as np\n",
        "import pandas as pd\n",
        "from matplotlib import pyplot as plt\n",
        "######today's main librar\n",
        "from sklearn.ensemble import RandomForestClassifier\n",
        "#######\n",
        "from sklearn.metrics import confusion_matrix,accuracy_score\n",
        "from sklearn.model_selection import train_test_split\n",
        "####### new libraries\n",
        "from sklearn.model_selection import GridSearchCV,KFold,cross_val_predict"
      ],
      "execution_count": 44,
      "outputs": []
    },
    {
      "cell_type": "markdown",
      "metadata": {
        "id": "9XkAwB77Qr09"
      },
      "source": [
        "LOADING DATA"
      ]
    },
    {
      "cell_type": "code",
      "metadata": {
        "id": "qTeva7dHGtzZ",
        "outputId": "cfec1019-8f11-4358-95f3-75cfe8caf37c",
        "colab": {
          "base_uri": "https://localhost:8080/",
          "height": 430
        }
      },
      "source": [
        "mushroom=pd.read_csv('/content/drive/My Drive/data/mushrooms.csv')\n",
        "mushroom.head(10)"
      ],
      "execution_count": 45,
      "outputs": [
        {
          "output_type": "execute_result",
          "data": {
            "text/html": [
              "<div>\n",
              "<style scoped>\n",
              "    .dataframe tbody tr th:only-of-type {\n",
              "        vertical-align: middle;\n",
              "    }\n",
              "\n",
              "    .dataframe tbody tr th {\n",
              "        vertical-align: top;\n",
              "    }\n",
              "\n",
              "    .dataframe thead th {\n",
              "        text-align: right;\n",
              "    }\n",
              "</style>\n",
              "<table border=\"1\" class=\"dataframe\">\n",
              "  <thead>\n",
              "    <tr style=\"text-align: right;\">\n",
              "      <th></th>\n",
              "      <th>class</th>\n",
              "      <th>cap-shape</th>\n",
              "      <th>cap-surface</th>\n",
              "      <th>cap-color</th>\n",
              "      <th>bruises</th>\n",
              "      <th>odor</th>\n",
              "      <th>gill-attachment</th>\n",
              "      <th>gill-spacing</th>\n",
              "      <th>gill-size</th>\n",
              "      <th>gill-color</th>\n",
              "      <th>stalk-shape</th>\n",
              "      <th>stalk-root</th>\n",
              "      <th>stalk-surface-above-ring</th>\n",
              "      <th>stalk-surface-below-ring</th>\n",
              "      <th>stalk-color-above-ring</th>\n",
              "      <th>stalk-color-below-ring</th>\n",
              "      <th>veil-type</th>\n",
              "      <th>veil-color</th>\n",
              "      <th>ring-number</th>\n",
              "      <th>ring-type</th>\n",
              "      <th>spore-print-color</th>\n",
              "      <th>population</th>\n",
              "      <th>habitat</th>\n",
              "    </tr>\n",
              "  </thead>\n",
              "  <tbody>\n",
              "    <tr>\n",
              "      <th>0</th>\n",
              "      <td>p</td>\n",
              "      <td>x</td>\n",
              "      <td>s</td>\n",
              "      <td>n</td>\n",
              "      <td>t</td>\n",
              "      <td>p</td>\n",
              "      <td>f</td>\n",
              "      <td>c</td>\n",
              "      <td>n</td>\n",
              "      <td>k</td>\n",
              "      <td>e</td>\n",
              "      <td>e</td>\n",
              "      <td>s</td>\n",
              "      <td>s</td>\n",
              "      <td>w</td>\n",
              "      <td>w</td>\n",
              "      <td>p</td>\n",
              "      <td>w</td>\n",
              "      <td>o</td>\n",
              "      <td>p</td>\n",
              "      <td>k</td>\n",
              "      <td>s</td>\n",
              "      <td>u</td>\n",
              "    </tr>\n",
              "    <tr>\n",
              "      <th>1</th>\n",
              "      <td>e</td>\n",
              "      <td>x</td>\n",
              "      <td>s</td>\n",
              "      <td>y</td>\n",
              "      <td>t</td>\n",
              "      <td>a</td>\n",
              "      <td>f</td>\n",
              "      <td>c</td>\n",
              "      <td>b</td>\n",
              "      <td>k</td>\n",
              "      <td>e</td>\n",
              "      <td>c</td>\n",
              "      <td>s</td>\n",
              "      <td>s</td>\n",
              "      <td>w</td>\n",
              "      <td>w</td>\n",
              "      <td>p</td>\n",
              "      <td>w</td>\n",
              "      <td>o</td>\n",
              "      <td>p</td>\n",
              "      <td>n</td>\n",
              "      <td>n</td>\n",
              "      <td>g</td>\n",
              "    </tr>\n",
              "    <tr>\n",
              "      <th>2</th>\n",
              "      <td>e</td>\n",
              "      <td>b</td>\n",
              "      <td>s</td>\n",
              "      <td>w</td>\n",
              "      <td>t</td>\n",
              "      <td>l</td>\n",
              "      <td>f</td>\n",
              "      <td>c</td>\n",
              "      <td>b</td>\n",
              "      <td>n</td>\n",
              "      <td>e</td>\n",
              "      <td>c</td>\n",
              "      <td>s</td>\n",
              "      <td>s</td>\n",
              "      <td>w</td>\n",
              "      <td>w</td>\n",
              "      <td>p</td>\n",
              "      <td>w</td>\n",
              "      <td>o</td>\n",
              "      <td>p</td>\n",
              "      <td>n</td>\n",
              "      <td>n</td>\n",
              "      <td>m</td>\n",
              "    </tr>\n",
              "    <tr>\n",
              "      <th>3</th>\n",
              "      <td>p</td>\n",
              "      <td>x</td>\n",
              "      <td>y</td>\n",
              "      <td>w</td>\n",
              "      <td>t</td>\n",
              "      <td>p</td>\n",
              "      <td>f</td>\n",
              "      <td>c</td>\n",
              "      <td>n</td>\n",
              "      <td>n</td>\n",
              "      <td>e</td>\n",
              "      <td>e</td>\n",
              "      <td>s</td>\n",
              "      <td>s</td>\n",
              "      <td>w</td>\n",
              "      <td>w</td>\n",
              "      <td>p</td>\n",
              "      <td>w</td>\n",
              "      <td>o</td>\n",
              "      <td>p</td>\n",
              "      <td>k</td>\n",
              "      <td>s</td>\n",
              "      <td>u</td>\n",
              "    </tr>\n",
              "    <tr>\n",
              "      <th>4</th>\n",
              "      <td>e</td>\n",
              "      <td>x</td>\n",
              "      <td>s</td>\n",
              "      <td>g</td>\n",
              "      <td>f</td>\n",
              "      <td>n</td>\n",
              "      <td>f</td>\n",
              "      <td>w</td>\n",
              "      <td>b</td>\n",
              "      <td>k</td>\n",
              "      <td>t</td>\n",
              "      <td>e</td>\n",
              "      <td>s</td>\n",
              "      <td>s</td>\n",
              "      <td>w</td>\n",
              "      <td>w</td>\n",
              "      <td>p</td>\n",
              "      <td>w</td>\n",
              "      <td>o</td>\n",
              "      <td>e</td>\n",
              "      <td>n</td>\n",
              "      <td>a</td>\n",
              "      <td>g</td>\n",
              "    </tr>\n",
              "    <tr>\n",
              "      <th>5</th>\n",
              "      <td>e</td>\n",
              "      <td>x</td>\n",
              "      <td>y</td>\n",
              "      <td>y</td>\n",
              "      <td>t</td>\n",
              "      <td>a</td>\n",
              "      <td>f</td>\n",
              "      <td>c</td>\n",
              "      <td>b</td>\n",
              "      <td>n</td>\n",
              "      <td>e</td>\n",
              "      <td>c</td>\n",
              "      <td>s</td>\n",
              "      <td>s</td>\n",
              "      <td>w</td>\n",
              "      <td>w</td>\n",
              "      <td>p</td>\n",
              "      <td>w</td>\n",
              "      <td>o</td>\n",
              "      <td>p</td>\n",
              "      <td>k</td>\n",
              "      <td>n</td>\n",
              "      <td>g</td>\n",
              "    </tr>\n",
              "    <tr>\n",
              "      <th>6</th>\n",
              "      <td>e</td>\n",
              "      <td>b</td>\n",
              "      <td>s</td>\n",
              "      <td>w</td>\n",
              "      <td>t</td>\n",
              "      <td>a</td>\n",
              "      <td>f</td>\n",
              "      <td>c</td>\n",
              "      <td>b</td>\n",
              "      <td>g</td>\n",
              "      <td>e</td>\n",
              "      <td>c</td>\n",
              "      <td>s</td>\n",
              "      <td>s</td>\n",
              "      <td>w</td>\n",
              "      <td>w</td>\n",
              "      <td>p</td>\n",
              "      <td>w</td>\n",
              "      <td>o</td>\n",
              "      <td>p</td>\n",
              "      <td>k</td>\n",
              "      <td>n</td>\n",
              "      <td>m</td>\n",
              "    </tr>\n",
              "    <tr>\n",
              "      <th>7</th>\n",
              "      <td>e</td>\n",
              "      <td>b</td>\n",
              "      <td>y</td>\n",
              "      <td>w</td>\n",
              "      <td>t</td>\n",
              "      <td>l</td>\n",
              "      <td>f</td>\n",
              "      <td>c</td>\n",
              "      <td>b</td>\n",
              "      <td>n</td>\n",
              "      <td>e</td>\n",
              "      <td>c</td>\n",
              "      <td>s</td>\n",
              "      <td>s</td>\n",
              "      <td>w</td>\n",
              "      <td>w</td>\n",
              "      <td>p</td>\n",
              "      <td>w</td>\n",
              "      <td>o</td>\n",
              "      <td>p</td>\n",
              "      <td>n</td>\n",
              "      <td>s</td>\n",
              "      <td>m</td>\n",
              "    </tr>\n",
              "    <tr>\n",
              "      <th>8</th>\n",
              "      <td>p</td>\n",
              "      <td>x</td>\n",
              "      <td>y</td>\n",
              "      <td>w</td>\n",
              "      <td>t</td>\n",
              "      <td>p</td>\n",
              "      <td>f</td>\n",
              "      <td>c</td>\n",
              "      <td>n</td>\n",
              "      <td>p</td>\n",
              "      <td>e</td>\n",
              "      <td>e</td>\n",
              "      <td>s</td>\n",
              "      <td>s</td>\n",
              "      <td>w</td>\n",
              "      <td>w</td>\n",
              "      <td>p</td>\n",
              "      <td>w</td>\n",
              "      <td>o</td>\n",
              "      <td>p</td>\n",
              "      <td>k</td>\n",
              "      <td>v</td>\n",
              "      <td>g</td>\n",
              "    </tr>\n",
              "    <tr>\n",
              "      <th>9</th>\n",
              "      <td>e</td>\n",
              "      <td>b</td>\n",
              "      <td>s</td>\n",
              "      <td>y</td>\n",
              "      <td>t</td>\n",
              "      <td>a</td>\n",
              "      <td>f</td>\n",
              "      <td>c</td>\n",
              "      <td>b</td>\n",
              "      <td>g</td>\n",
              "      <td>e</td>\n",
              "      <td>c</td>\n",
              "      <td>s</td>\n",
              "      <td>s</td>\n",
              "      <td>w</td>\n",
              "      <td>w</td>\n",
              "      <td>p</td>\n",
              "      <td>w</td>\n",
              "      <td>o</td>\n",
              "      <td>p</td>\n",
              "      <td>k</td>\n",
              "      <td>s</td>\n",
              "      <td>m</td>\n",
              "    </tr>\n",
              "  </tbody>\n",
              "</table>\n",
              "</div>"
            ],
            "text/plain": [
              "  class cap-shape cap-surface  ... spore-print-color population habitat\n",
              "0     p         x           s  ...                 k          s       u\n",
              "1     e         x           s  ...                 n          n       g\n",
              "2     e         b           s  ...                 n          n       m\n",
              "3     p         x           y  ...                 k          s       u\n",
              "4     e         x           s  ...                 n          a       g\n",
              "5     e         x           y  ...                 k          n       g\n",
              "6     e         b           s  ...                 k          n       m\n",
              "7     e         b           y  ...                 n          s       m\n",
              "8     p         x           y  ...                 k          v       g\n",
              "9     e         b           s  ...                 k          s       m\n",
              "\n",
              "[10 rows x 23 columns]"
            ]
          },
          "metadata": {
            "tags": []
          },
          "execution_count": 45
        }
      ]
    },
    {
      "cell_type": "markdown",
      "metadata": {
        "id": "v1Pb3RYYQweh"
      },
      "source": [
        "FINDING NO. OF ROWS AND COLUMNS OF DATA"
      ]
    },
    {
      "cell_type": "code",
      "metadata": {
        "id": "AU8CzlZkHMJg",
        "outputId": "7ad0021a-f704-445f-84e3-b92a6d31af0e",
        "colab": {
          "base_uri": "https://localhost:8080/"
        }
      },
      "source": [
        "mushroom.shape"
      ],
      "execution_count": 46,
      "outputs": [
        {
          "output_type": "execute_result",
          "data": {
            "text/plain": [
              "(8124, 23)"
            ]
          },
          "metadata": {
            "tags": []
          },
          "execution_count": 46
        }
      ]
    },
    {
      "cell_type": "markdown",
      "metadata": {
        "id": "OUvPmviPQ5CG"
      },
      "source": [
        "FINDING IF THERE IS ANY NAN VALUE IN DATA "
      ]
    },
    {
      "cell_type": "code",
      "metadata": {
        "id": "dIhp_SKaJOH5",
        "outputId": "853a06cd-01c0-4c88-a1ba-1e7745bc0359",
        "colab": {
          "base_uri": "https://localhost:8080/"
        }
      },
      "source": [
        "mushroom.isna().sum(axis=0)"
      ],
      "execution_count": 47,
      "outputs": [
        {
          "output_type": "execute_result",
          "data": {
            "text/plain": [
              "class                       0\n",
              "cap-shape                   0\n",
              "cap-surface                 0\n",
              "cap-color                   0\n",
              "bruises                     0\n",
              "odor                        0\n",
              "gill-attachment             0\n",
              "gill-spacing                0\n",
              "gill-size                   0\n",
              "gill-color                  0\n",
              "stalk-shape                 0\n",
              "stalk-root                  0\n",
              "stalk-surface-above-ring    0\n",
              "stalk-surface-below-ring    0\n",
              "stalk-color-above-ring      0\n",
              "stalk-color-below-ring      0\n",
              "veil-type                   0\n",
              "veil-color                  0\n",
              "ring-number                 0\n",
              "ring-type                   0\n",
              "spore-print-color           0\n",
              "population                  0\n",
              "habitat                     0\n",
              "dtype: int64"
            ]
          },
          "metadata": {
            "tags": []
          },
          "execution_count": 47
        }
      ]
    },
    {
      "cell_type": "markdown",
      "metadata": {
        "id": "BzUDMCm4RAwR"
      },
      "source": [
        "FINDING UNIQUE VALUES IN EACH COLUMN"
      ]
    },
    {
      "cell_type": "code",
      "metadata": {
        "id": "HJKG1Q-UJXOF",
        "outputId": "4c74d4e3-dfcd-47d7-e24e-2f0da63aa8e1",
        "colab": {
          "base_uri": "https://localhost:8080/"
        }
      },
      "source": [
        "for i in mushroom:\n",
        "  print(f'{i} \\t {mushroom[i].unique()}')"
      ],
      "execution_count": 48,
      "outputs": [
        {
          "output_type": "stream",
          "text": [
            "class \t ['p' 'e']\n",
            "cap-shape \t ['x' 'b' 's' 'f' 'k' 'c']\n",
            "cap-surface \t ['s' 'y' 'f' 'g']\n",
            "cap-color \t ['n' 'y' 'w' 'g' 'e' 'p' 'b' 'u' 'c' 'r']\n",
            "bruises \t ['t' 'f']\n",
            "odor \t ['p' 'a' 'l' 'n' 'f' 'c' 'y' 's' 'm']\n",
            "gill-attachment \t ['f' 'a']\n",
            "gill-spacing \t ['c' 'w']\n",
            "gill-size \t ['n' 'b']\n",
            "gill-color \t ['k' 'n' 'g' 'p' 'w' 'h' 'u' 'e' 'b' 'r' 'y' 'o']\n",
            "stalk-shape \t ['e' 't']\n",
            "stalk-root \t ['e' 'c' 'b' 'r' '?']\n",
            "stalk-surface-above-ring \t ['s' 'f' 'k' 'y']\n",
            "stalk-surface-below-ring \t ['s' 'f' 'y' 'k']\n",
            "stalk-color-above-ring \t ['w' 'g' 'p' 'n' 'b' 'e' 'o' 'c' 'y']\n",
            "stalk-color-below-ring \t ['w' 'p' 'g' 'b' 'n' 'e' 'y' 'o' 'c']\n",
            "veil-type \t ['p']\n",
            "veil-color \t ['w' 'n' 'o' 'y']\n",
            "ring-number \t ['o' 't' 'n']\n",
            "ring-type \t ['p' 'e' 'l' 'f' 'n']\n",
            "spore-print-color \t ['k' 'n' 'u' 'h' 'w' 'r' 'o' 'y' 'b']\n",
            "population \t ['s' 'n' 'a' 'v' 'y' 'c']\n",
            "habitat \t ['u' 'g' 'm' 'd' 'p' 'w' 'l']\n"
          ],
          "name": "stdout"
        }
      ]
    },
    {
      "cell_type": "markdown",
      "metadata": {
        "id": "2lvjRy-0RIBr"
      },
      "source": [
        "IN \"CAP_COLOR\" COLUMN, FINDING HOW MANY TIMES A CERTAIN VALUE IS PRESENT"
      ]
    },
    {
      "cell_type": "code",
      "metadata": {
        "id": "77YTObJcGbCR",
        "outputId": "488b583f-e494-4163-e396-82a50174bdeb",
        "colab": {
          "base_uri": "https://localhost:8080/"
        }
      },
      "source": [
        "cap_color=mushroom['cap-color'].value_counts()\n",
        "cap_color"
      ],
      "execution_count": 49,
      "outputs": [
        {
          "output_type": "execute_result",
          "data": {
            "text/plain": [
              "n    2284\n",
              "g    1840\n",
              "e    1500\n",
              "y    1072\n",
              "w    1040\n",
              "b     168\n",
              "p     144\n",
              "c      44\n",
              "u      16\n",
              "r      16\n",
              "Name: cap-color, dtype: int64"
            ]
          },
          "metadata": {
            "tags": []
          },
          "execution_count": 49
        }
      ]
    },
    {
      "cell_type": "markdown",
      "metadata": {
        "id": "Hwtk0_DERbsm"
      },
      "source": [
        "CONVERTING \"CAP_COLOR\" 2nd COLUMN (i.e. of NO.OF VALUES) INTO LIST"
      ]
    },
    {
      "cell_type": "code",
      "metadata": {
        "id": "yQ_7t0XhHTO0",
        "outputId": "16391ecb-c2ff-4d2a-e7b2-d18eacf2df15",
        "colab": {
          "base_uri": "https://localhost:8080/"
        }
      },
      "source": [
        "m_height=cap_color.values.tolist()\n",
        "m_height"
      ],
      "execution_count": 50,
      "outputs": [
        {
          "output_type": "execute_result",
          "data": {
            "text/plain": [
              "[2284, 1840, 1500, 1072, 1040, 168, 144, 44, 16, 16]"
            ]
          },
          "metadata": {
            "tags": []
          },
          "execution_count": 50
        }
      ]
    },
    {
      "cell_type": "markdown",
      "metadata": {
        "id": "rqU8CG17Rq_o"
      },
      "source": [
        "CONVERTING \"CAP_COLOR\" 1st COLUMN (i.e. of COLORS) INTO LIST"
      ]
    },
    {
      "cell_type": "code",
      "metadata": {
        "id": "bRvQxvIYJ1mI",
        "outputId": "4d7b19fb-270d-4a0e-c350-04bc738c8afd",
        "colab": {
          "base_uri": "https://localhost:8080/"
        }
      },
      "source": [
        "cap_color.axes"
      ],
      "execution_count": 51,
      "outputs": [
        {
          "output_type": "execute_result",
          "data": {
            "text/plain": [
              "[Index(['n', 'g', 'e', 'y', 'w', 'b', 'p', 'c', 'u', 'r'], dtype='object')]"
            ]
          },
          "metadata": {
            "tags": []
          },
          "execution_count": 51
        }
      ]
    },
    {
      "cell_type": "code",
      "metadata": {
        "id": "DgC5k68NQCOn",
        "outputId": "903379b5-0a89-4eb3-ad2d-f8ea62ab743d",
        "colab": {
          "base_uri": "https://localhost:8080/"
        }
      },
      "source": [
        "cap_color_label=cap_color.axes[0].tolist()\n",
        "cap_color_label"
      ],
      "execution_count": 52,
      "outputs": [
        {
          "output_type": "execute_result",
          "data": {
            "text/plain": [
              "['n', 'g', 'e', 'y', 'w', 'b', 'p', 'c', 'u', 'r']"
            ]
          },
          "metadata": {
            "tags": []
          },
          "execution_count": 52
        }
      ]
    },
    {
      "cell_type": "markdown",
      "metadata": {
        "id": "70f1MEqhSLJ6"
      },
      "source": [
        "DATA VISUALIZATION"
      ]
    },
    {
      "cell_type": "code",
      "metadata": {
        "id": "w06EmGM8Qfpf",
        "outputId": "7366c698-3a71-420a-ae63-374761ae563a",
        "colab": {
          "base_uri": "https://localhost:8080/",
          "height": 478
        }
      },
      "source": [
        "# PLOTTING PREPARATION\n",
        "\n",
        "ind=np.arange(10)  # 10 because we have 10 values n,g,e,y,w,b,p,c,u,r\n",
        "width=0.7\n",
        "colors = ['#DEB887','#778899','#DC143C','#FFFF99','#f8f8ff','#F0DC82','#FF69B4','#D22D1E','#C000C5','g']\n",
        "# respective color codes from google for n= brown(from uci mushroom dataset),g,e....\n",
        "fig , ax = plt.subplots(figsize=(10,7))\n",
        "mushroom_bars=ax.bar(ind,m_height,width,color=colors)\n",
        "\n",
        "\n",
        "# DEFINING LABELS,TITLE AND AXIS TICKS\n",
        "\n",
        "ax.set_xlabel('Cap Color',fontsize=20)\n",
        "ax.set_ylabel('Quantity',fontsize=20)\n",
        "ax.set_title('Mushroom Cap Color Quantity',fontsize=23)\n",
        "ax.set_xticks(ind)\n",
        "ax.set_xticklabels(('brown','gray','red','yellow','white','buff','pink','cinnamon','purple','green'),\n",
        "                   fontsize=12)\n",
        "\n",
        "#AUTO LABEL THE NO. OF MUSHROOM ON EACH BAR AT THE TOP OF BAR\n",
        "\n",
        "def autolabel(rects,fontsize=14):\n",
        "        for rect in rects:\n",
        "          height = rect.get_height()\n",
        "          ax.text(rect.get_x() + rect.get_width()/2., 1*height,'%d' % int(height),\n",
        "                ha='center', va='bottom',fontsize=fontsize)\n",
        "autolabel(mushroom_bars)        \n",
        "plt.show()\n"
      ],
      "execution_count": 53,
      "outputs": [
        {
          "output_type": "display_data",
          "data": {
            "image/png": "[encoded data removed]",
            "text/plain": [
              "<Figure size 720x504 with 1 Axes>"
            ]
          },
          "metadata": {
            "tags": [],
            "needs_background": "light"
          }
        }
      ]
    },
    {
      "cell_type": "code",
      "metadata": {
        "id": "yUJIo6rtY53O"
      },
      "source": [
        ""
      ],
      "execution_count": 53,
      "outputs": []
    },
    {
      "cell_type": "markdown",
      "metadata": {
        "id": "zQiLxIhqbHjv"
      },
      "source": [
        "VISUALIZING THROUGH BAR CHART HOW MANY IN EACH COLOR IS EDIBLE AND HOW MANY ARE POISONOUS"
      ]
    },
    {
      "cell_type": "code",
      "metadata": {
        "id": "Z__VCjklbzX5",
        "outputId": "564e7d6d-d9a8-4290-fdb6-532e3197949f",
        "colab": {
          "base_uri": "https://localhost:8080/"
        }
      },
      "source": [
        "len(mushroom[(mushroom['cap-color']=='n') & (mushroom['class']=='e')].index)"
      ],
      "execution_count": 54,
      "outputs": [
        {
          "output_type": "execute_result",
          "data": {
            "text/plain": [
              "1264"
            ]
          },
          "metadata": {
            "tags": []
          },
          "execution_count": 54
        }
      ]
    },
    {
      "cell_type": "code",
      "metadata": {
        "id": "iqohvtsUbYrP",
        "outputId": "b57833f2-3141-43f6-a2aa-3c2250cd7b25",
        "colab": {
          "base_uri": "https://localhost:8080/",
          "height": 476
        }
      },
      "source": [
        "#FINDING EDIBLE AND POISONOUS MUSHROOM OF EACH COLOR\n",
        "edible_cc=[]\n",
        "poisonous_cc=[]\n",
        "\n",
        "for color in cap_color_label:\n",
        "  size=len(mushroom[mushroom['cap-color']==color].index)\n",
        "  edible=len(mushroom[(mushroom['cap-color']==color) & (mushroom['class']=='e')].index)\n",
        "  edible_cc.append(edible)\n",
        "  poisonous_cc.append(size- edible)\n",
        "\n",
        "# PLOTTING AS A BAR CHART\n",
        "width=0.4\n",
        "fig,ax = plt.subplots(figsize=(12,7))\n",
        "edible_bars= ax.bar(ind,edible_cc,width,color='g')\n",
        "poisonous_bars=ax.bar(ind+width,poisonous_cc,width,color='r')\n",
        "\n",
        "# GIVING LABELS,TITLES AND TICKS\n",
        "ax.set_xlabel(\"Cap Color\",fontsize=20)\n",
        "ax.set_ylabel('Quantity',fontsize=20)\n",
        "ax.set_title('Edible and Poisonous Mushrooms Based on Cap Color',fontsize=22)\n",
        "ax.set_xticks(ind + width / 2) #Positioning on the x axis\n",
        "ax.set_xticklabels(('brown', 'gray','red','yellow','white','buff','pink','cinnamon','purple','green'),\n",
        "                  fontsize = 12)\n",
        "ax.legend((edible_bars,poisonous_bars),('edible','poisonous'),fontsize=17)\n",
        "autolabel(edible_bars, 10)\n",
        "autolabel(poisonous_bars, 10)\n",
        "plt.show()\n",
        "\n",
        "\n",
        "\n"
      ],
      "execution_count": 55,
      "outputs": [
        {
          "output_type": "display_data",
          "data": {
            "image/png": "[encoded data removed]",
            "text/plain": [
              "<Figure size 864x504 with 1 Axes>"
            ]
          },
          "metadata": {
            "tags": [],
            "needs_background": "light"
          }
        }
      ]
    },
    {
      "cell_type": "code",
      "metadata": {
        "id": "IoKs8tjkirKU"
      },
      "source": [
        ""
      ],
      "execution_count": 55,
      "outputs": []
    },
    {
      "cell_type": "markdown",
      "metadata": {
        "id": "Y4Sb4nttgsD3"
      },
      "source": [
        "NOW DATA PREPROCESSING i.e. CONVERTING ALPHABETS TO NUMBERS "
      ]
    },
    {
      "cell_type": "code",
      "metadata": {
        "id": "EISIYvXFg1I7",
        "outputId": "4d6965f2-2b16-4f01-fbff-017ce2658d21",
        "colab": {
          "base_uri": "https://localhost:8080/",
          "height": 275
        }
      },
      "source": [
        "from sklearn.preprocessing import LabelEncoder\n",
        "label_encoder=LabelEncoder()\n",
        "for column in mushroom.columns:\n",
        "  mushroom[column]=label_encoder.fit_transform(mushroom[column])\n",
        "    #in numerical                               #from textual\n",
        "\n",
        "mushroom.head()"
      ],
      "execution_count": 56,
      "outputs": [
        {
          "output_type": "execute_result",
          "data": {
            "text/html": [
              "<div>\n",
              "<style scoped>\n",
              "    .dataframe tbody tr th:only-of-type {\n",
              "        vertical-align: middle;\n",
              "    }\n",
              "\n",
              "    .dataframe tbody tr th {\n",
              "        vertical-align: top;\n",
              "    }\n",
              "\n",
              "    .dataframe thead th {\n",
              "        text-align: right;\n",
              "    }\n",
              "</style>\n",
              "<table border=\"1\" class=\"dataframe\">\n",
              "  <thead>\n",
              "    <tr style=\"text-align: right;\">\n",
              "      <th></th>\n",
              "      <th>class</th>\n",
              "      <th>cap-shape</th>\n",
              "      <th>cap-surface</th>\n",
              "      <th>cap-color</th>\n",
              "      <th>bruises</th>\n",
              "      <th>odor</th>\n",
              "      <th>gill-attachment</th>\n",
              "      <th>gill-spacing</th>\n",
              "      <th>gill-size</th>\n",
              "      <th>gill-color</th>\n",
              "      <th>stalk-shape</th>\n",
              "      <th>stalk-root</th>\n",
              "      <th>stalk-surface-above-ring</th>\n",
              "      <th>stalk-surface-below-ring</th>\n",
              "      <th>stalk-color-above-ring</th>\n",
              "      <th>stalk-color-below-ring</th>\n",
              "      <th>veil-type</th>\n",
              "      <th>veil-color</th>\n",
              "      <th>ring-number</th>\n",
              "      <th>ring-type</th>\n",
              "      <th>spore-print-color</th>\n",
              "      <th>population</th>\n",
              "      <th>habitat</th>\n",
              "    </tr>\n",
              "  </thead>\n",
              "  <tbody>\n",
              "    <tr>\n",
              "      <th>0</th>\n",
              "      <td>1</td>\n",
              "      <td>5</td>\n",
              "      <td>2</td>\n",
              "      <td>4</td>\n",
              "      <td>1</td>\n",
              "      <td>6</td>\n",
              "      <td>1</td>\n",
              "      <td>0</td>\n",
              "      <td>1</td>\n",
              "      <td>4</td>\n",
              "      <td>0</td>\n",
              "      <td>3</td>\n",
              "      <td>2</td>\n",
              "      <td>2</td>\n",
              "      <td>7</td>\n",
              "      <td>7</td>\n",
              "      <td>0</td>\n",
              "      <td>2</td>\n",
              "      <td>1</td>\n",
              "      <td>4</td>\n",
              "      <td>2</td>\n",
              "      <td>3</td>\n",
              "      <td>5</td>\n",
              "    </tr>\n",
              "    <tr>\n",
              "      <th>1</th>\n",
              "      <td>0</td>\n",
              "      <td>5</td>\n",
              "      <td>2</td>\n",
              "      <td>9</td>\n",
              "      <td>1</td>\n",
              "      <td>0</td>\n",
              "      <td>1</td>\n",
              "      <td>0</td>\n",
              "      <td>0</td>\n",
              "      <td>4</td>\n",
              "      <td>0</td>\n",
              "      <td>2</td>\n",
              "      <td>2</td>\n",
              "      <td>2</td>\n",
              "      <td>7</td>\n",
              "      <td>7</td>\n",
              "      <td>0</td>\n",
              "      <td>2</td>\n",
              "      <td>1</td>\n",
              "      <td>4</td>\n",
              "      <td>3</td>\n",
              "      <td>2</td>\n",
              "      <td>1</td>\n",
              "    </tr>\n",
              "    <tr>\n",
              "      <th>2</th>\n",
              "      <td>0</td>\n",
              "      <td>0</td>\n",
              "      <td>2</td>\n",
              "      <td>8</td>\n",
              "      <td>1</td>\n",
              "      <td>3</td>\n",
              "      <td>1</td>\n",
              "      <td>0</td>\n",
              "      <td>0</td>\n",
              "      <td>5</td>\n",
              "      <td>0</td>\n",
              "      <td>2</td>\n",
              "      <td>2</td>\n",
              "      <td>2</td>\n",
              "      <td>7</td>\n",
              "      <td>7</td>\n",
              "      <td>0</td>\n",
              "      <td>2</td>\n",
              "      <td>1</td>\n",
              "      <td>4</td>\n",
              "      <td>3</td>\n",
              "      <td>2</td>\n",
              "      <td>3</td>\n",
              "    </tr>\n",
              "    <tr>\n",
              "      <th>3</th>\n",
              "      <td>1</td>\n",
              "      <td>5</td>\n",
              "      <td>3</td>\n",
              "      <td>8</td>\n",
              "      <td>1</td>\n",
              "      <td>6</td>\n",
              "      <td>1</td>\n",
              "      <td>0</td>\n",
              "      <td>1</td>\n",
              "      <td>5</td>\n",
              "      <td>0</td>\n",
              "      <td>3</td>\n",
              "      <td>2</td>\n",
              "      <td>2</td>\n",
              "      <td>7</td>\n",
              "      <td>7</td>\n",
              "      <td>0</td>\n",
              "      <td>2</td>\n",
              "      <td>1</td>\n",
              "      <td>4</td>\n",
              "      <td>2</td>\n",
              "      <td>3</td>\n",
              "      <td>5</td>\n",
              "    </tr>\n",
              "    <tr>\n",
              "      <th>4</th>\n",
              "      <td>0</td>\n",
              "      <td>5</td>\n",
              "      <td>2</td>\n",
              "      <td>3</td>\n",
              "      <td>0</td>\n",
              "      <td>5</td>\n",
              "      <td>1</td>\n",
              "      <td>1</td>\n",
              "      <td>0</td>\n",
              "      <td>4</td>\n",
              "      <td>1</td>\n",
              "      <td>3</td>\n",
              "      <td>2</td>\n",
              "      <td>2</td>\n",
              "      <td>7</td>\n",
              "      <td>7</td>\n",
              "      <td>0</td>\n",
              "      <td>2</td>\n",
              "      <td>1</td>\n",
              "      <td>0</td>\n",
              "      <td>3</td>\n",
              "      <td>0</td>\n",
              "      <td>1</td>\n",
              "    </tr>\n",
              "  </tbody>\n",
              "</table>\n",
              "</div>"
            ],
            "text/plain": [
              "   class  cap-shape  cap-surface  ...  spore-print-color  population  habitat\n",
              "0      1          5            2  ...                  2           3        5\n",
              "1      0          5            2  ...                  3           2        1\n",
              "2      0          0            2  ...                  3           2        3\n",
              "3      1          5            3  ...                  2           3        5\n",
              "4      0          5            2  ...                  3           0        1\n",
              "\n",
              "[5 rows x 23 columns]"
            ]
          },
          "metadata": {
            "tags": []
          },
          "execution_count": 56
        }
      ]
    },
    {
      "cell_type": "markdown",
      "metadata": {
        "id": "vZfw-KoihyAq"
      },
      "source": [
        "ONCE AGAIN CHECKING IF THERE IS ANY MISSING VALUE"
      ]
    },
    {
      "cell_type": "code",
      "metadata": {
        "id": "XXU0saLUh21z",
        "outputId": "3c9b3a8e-174d-414f-a63f-f71574b3b98e",
        "colab": {
          "base_uri": "https://localhost:8080/"
        }
      },
      "source": [
        "mushroom.isnull().sum(axis=0)"
      ],
      "execution_count": 57,
      "outputs": [
        {
          "output_type": "execute_result",
          "data": {
            "text/plain": [
              "class                       0\n",
              "cap-shape                   0\n",
              "cap-surface                 0\n",
              "cap-color                   0\n",
              "bruises                     0\n",
              "odor                        0\n",
              "gill-attachment             0\n",
              "gill-spacing                0\n",
              "gill-size                   0\n",
              "gill-color                  0\n",
              "stalk-shape                 0\n",
              "stalk-root                  0\n",
              "stalk-surface-above-ring    0\n",
              "stalk-surface-below-ring    0\n",
              "stalk-color-above-ring      0\n",
              "stalk-color-below-ring      0\n",
              "veil-type                   0\n",
              "veil-color                  0\n",
              "ring-number                 0\n",
              "ring-type                   0\n",
              "spore-print-color           0\n",
              "population                  0\n",
              "habitat                     0\n",
              "dtype: int64"
            ]
          },
          "metadata": {
            "tags": []
          },
          "execution_count": 57
        }
      ]
    },
    {
      "cell_type": "markdown",
      "metadata": {
        "id": "uZSjflrMkP_l"
      },
      "source": [
        "TARGET IS \"CLASS\" i.e. WHETHER MUSHROOM IS EDIBLE OR NOT EHILE REMAINING CLOUMNS ARE FEAURES"
      ]
    },
    {
      "cell_type": "code",
      "metadata": {
        "id": "0WHbvHEmkybe",
        "outputId": "70d0e928-f208-4a4a-bf2d-8072b29bf39b",
        "colab": {
          "base_uri": "https://localhost:8080/"
        }
      },
      "source": [
        "# important.finding how many are edible and how many is poisonous in a column\n",
        "mushroom.groupby('class').size()"
      ],
      "execution_count": 58,
      "outputs": [
        {
          "output_type": "execute_result",
          "data": {
            "text/plain": [
              "class\n",
              "0    4208\n",
              "1    3916\n",
              "dtype: int64"
            ]
          },
          "metadata": {
            "tags": []
          },
          "execution_count": 58
        }
      ]
    },
    {
      "cell_type": "markdown",
      "metadata": {
        "id": "LIG7D-eLlJdF"
      },
      "source": [
        "FEATURES EXTRACTION"
      ]
    },
    {
      "cell_type": "code",
      "metadata": {
        "id": "1ssMje1-lUfx",
        "outputId": "8d5d11fa-6804-4c75-f5b3-4a5560fc5dd3",
        "colab": {
          "base_uri": "https://localhost:8080/",
          "height": 275
        }
      },
      "source": [
        "#features.Talking all columns and then dropping only class columns\n",
        "x=mushroom\n",
        "x=x.drop(columns=['class'])\n",
        "x.head()"
      ],
      "execution_count": 59,
      "outputs": [
        {
          "output_type": "execute_result",
          "data": {
            "text/html": [
              "<div>\n",
              "<style scoped>\n",
              "    .dataframe tbody tr th:only-of-type {\n",
              "        vertical-align: middle;\n",
              "    }\n",
              "\n",
              "    .dataframe tbody tr th {\n",
              "        vertical-align: top;\n",
              "    }\n",
              "\n",
              "    .dataframe thead th {\n",
              "        text-align: right;\n",
              "    }\n",
              "</style>\n",
              "<table border=\"1\" class=\"dataframe\">\n",
              "  <thead>\n",
              "    <tr style=\"text-align: right;\">\n",
              "      <th></th>\n",
              "      <th>cap-shape</th>\n",
              "      <th>cap-surface</th>\n",
              "      <th>cap-color</th>\n",
              "      <th>bruises</th>\n",
              "      <th>odor</th>\n",
              "      <th>gill-attachment</th>\n",
              "      <th>gill-spacing</th>\n",
              "      <th>gill-size</th>\n",
              "      <th>gill-color</th>\n",
              "      <th>stalk-shape</th>\n",
              "      <th>stalk-root</th>\n",
              "      <th>stalk-surface-above-ring</th>\n",
              "      <th>stalk-surface-below-ring</th>\n",
              "      <th>stalk-color-above-ring</th>\n",
              "      <th>stalk-color-below-ring</th>\n",
              "      <th>veil-type</th>\n",
              "      <th>veil-color</th>\n",
              "      <th>ring-number</th>\n",
              "      <th>ring-type</th>\n",
              "      <th>spore-print-color</th>\n",
              "      <th>population</th>\n",
              "      <th>habitat</th>\n",
              "    </tr>\n",
              "  </thead>\n",
              "  <tbody>\n",
              "    <tr>\n",
              "      <th>0</th>\n",
              "      <td>5</td>\n",
              "      <td>2</td>\n",
              "      <td>4</td>\n",
              "      <td>1</td>\n",
              "      <td>6</td>\n",
              "      <td>1</td>\n",
              "      <td>0</td>\n",
              "      <td>1</td>\n",
              "      <td>4</td>\n",
              "      <td>0</td>\n",
              "      <td>3</td>\n",
              "      <td>2</td>\n",
              "      <td>2</td>\n",
              "      <td>7</td>\n",
              "      <td>7</td>\n",
              "      <td>0</td>\n",
              "      <td>2</td>\n",
              "      <td>1</td>\n",
              "      <td>4</td>\n",
              "      <td>2</td>\n",
              "      <td>3</td>\n",
              "      <td>5</td>\n",
              "    </tr>\n",
              "    <tr>\n",
              "      <th>1</th>\n",
              "      <td>5</td>\n",
              "      <td>2</td>\n",
              "      <td>9</td>\n",
              "      <td>1</td>\n",
              "      <td>0</td>\n",
              "      <td>1</td>\n",
              "      <td>0</td>\n",
              "      <td>0</td>\n",
              "      <td>4</td>\n",
              "      <td>0</td>\n",
              "      <td>2</td>\n",
              "      <td>2</td>\n",
              "      <td>2</td>\n",
              "      <td>7</td>\n",
              "      <td>7</td>\n",
              "      <td>0</td>\n",
              "      <td>2</td>\n",
              "      <td>1</td>\n",
              "      <td>4</td>\n",
              "      <td>3</td>\n",
              "      <td>2</td>\n",
              "      <td>1</td>\n",
              "    </tr>\n",
              "    <tr>\n",
              "      <th>2</th>\n",
              "      <td>0</td>\n",
              "      <td>2</td>\n",
              "      <td>8</td>\n",
              "      <td>1</td>\n",
              "      <td>3</td>\n",
              "      <td>1</td>\n",
              "      <td>0</td>\n",
              "      <td>0</td>\n",
              "      <td>5</td>\n",
              "      <td>0</td>\n",
              "      <td>2</td>\n",
              "      <td>2</td>\n",
              "      <td>2</td>\n",
              "      <td>7</td>\n",
              "      <td>7</td>\n",
              "      <td>0</td>\n",
              "      <td>2</td>\n",
              "      <td>1</td>\n",
              "      <td>4</td>\n",
              "      <td>3</td>\n",
              "      <td>2</td>\n",
              "      <td>3</td>\n",
              "    </tr>\n",
              "    <tr>\n",
              "      <th>3</th>\n",
              "      <td>5</td>\n",
              "      <td>3</td>\n",
              "      <td>8</td>\n",
              "      <td>1</td>\n",
              "      <td>6</td>\n",
              "      <td>1</td>\n",
              "      <td>0</td>\n",
              "      <td>1</td>\n",
              "      <td>5</td>\n",
              "      <td>0</td>\n",
              "      <td>3</td>\n",
              "      <td>2</td>\n",
              "      <td>2</td>\n",
              "      <td>7</td>\n",
              "      <td>7</td>\n",
              "      <td>0</td>\n",
              "      <td>2</td>\n",
              "      <td>1</td>\n",
              "      <td>4</td>\n",
              "      <td>2</td>\n",
              "      <td>3</td>\n",
              "      <td>5</td>\n",
              "    </tr>\n",
              "    <tr>\n",
              "      <th>4</th>\n",
              "      <td>5</td>\n",
              "      <td>2</td>\n",
              "      <td>3</td>\n",
              "      <td>0</td>\n",
              "      <td>5</td>\n",
              "      <td>1</td>\n",
              "      <td>1</td>\n",
              "      <td>0</td>\n",
              "      <td>4</td>\n",
              "      <td>1</td>\n",
              "      <td>3</td>\n",
              "      <td>2</td>\n",
              "      <td>2</td>\n",
              "      <td>7</td>\n",
              "      <td>7</td>\n",
              "      <td>0</td>\n",
              "      <td>2</td>\n",
              "      <td>1</td>\n",
              "      <td>0</td>\n",
              "      <td>3</td>\n",
              "      <td>0</td>\n",
              "      <td>1</td>\n",
              "    </tr>\n",
              "  </tbody>\n",
              "</table>\n",
              "</div>"
            ],
            "text/plain": [
              "   cap-shape  cap-surface  cap-color  ...  spore-print-color  population  habitat\n",
              "0          5            2          4  ...                  2           3        5\n",
              "1          5            2          9  ...                  3           2        1\n",
              "2          0            2          8  ...                  3           2        3\n",
              "3          5            3          8  ...                  2           3        5\n",
              "4          5            2          3  ...                  3           0        1\n",
              "\n",
              "[5 rows x 22 columns]"
            ]
          },
          "metadata": {
            "tags": []
          },
          "execution_count": 59
        }
      ]
    },
    {
      "cell_type": "code",
      "metadata": {
        "id": "0IvQaMSxlxHC",
        "outputId": "14c327b4-cfbc-4816-8b4f-9478fdaea8e1",
        "colab": {
          "base_uri": "https://localhost:8080/"
        }
      },
      "source": [
        "#target\n",
        "y=mushroom['class']\n",
        "y.head()"
      ],
      "execution_count": 60,
      "outputs": [
        {
          "output_type": "execute_result",
          "data": {
            "text/plain": [
              "0    1\n",
              "1    0\n",
              "2    0\n",
              "3    1\n",
              "4    0\n",
              "Name: class, dtype: int64"
            ]
          },
          "metadata": {
            "tags": []
          },
          "execution_count": 60
        }
      ]
    },
    {
      "cell_type": "markdown",
      "metadata": {
        "id": "G7eh6HezmGLq"
      },
      "source": [
        "PREPROCESSING: STANDARD SCALING"
      ]
    },
    {
      "cell_type": "code",
      "metadata": {
        "id": "dhAouCt-mNXv"
      },
      "source": [
        "from sklearn.preprocessing import StandardScaler\n",
        "stand_x=StandardScaler()\n",
        "x=stand_x.fit_transform(x)"
      ],
      "execution_count": 61,
      "outputs": []
    },
    {
      "cell_type": "markdown",
      "metadata": {
        "id": "uAN0sFcZm8HN"
      },
      "source": [
        "VISUALIZING IT INTO HISTOGRAM"
      ]
    },
    {
      "cell_type": "code",
      "metadata": {
        "id": "CBVCcfXAnN2P",
        "outputId": "9fbef78d-feb9-4811-938d-55ad0e4f7260",
        "colab": {
          "base_uri": "https://localhost:8080/",
          "height": 1000
        }
      },
      "source": [
        "fig=plt.figure(figsize=(15,20))\n",
        "ax=fig.gca()  #gca is creating fig axes\n",
        "pd.DataFrame(x).hist(ax=ax)"
      ],
      "execution_count": 62,
      "outputs": [
        {
          "output_type": "stream",
          "text": [
            "/usr/local/lib/python3.6/dist-packages/ipykernel_launcher.py:3: UserWarning: To output multiple subplots, the figure containing the passed axes is being cleared\n",
            "  This is separate from the ipykernel package so we can avoid doing imports until\n"
          ],
          "name": "stderr"
        },
        {
          "output_type": "execute_result",
          "data": {
            "text/plain": [
              "array([[<matplotlib.axes._subplots.AxesSubplot object at 0x7f65636cc240>,\n",
              "        <matplotlib.axes._subplots.AxesSubplot object at 0x7f65628e7b70>,\n",
              "        <matplotlib.axes._subplots.AxesSubplot object at 0x7f656291add8>,\n",
              "        <matplotlib.axes._subplots.AxesSubplot object at 0x7f656285d080>,\n",
              "        <matplotlib.axes._subplots.AxesSubplot object at 0x7f6562884908>],\n",
              "       [<matplotlib.axes._subplots.AxesSubplot object at 0x7f6562838b70>,\n",
              "        <matplotlib.axes._subplots.AxesSubplot object at 0x7f65627ecdd8>,\n",
              "        <matplotlib.axes._subplots.AxesSubplot object at 0x7f65627ac048>,\n",
              "        <matplotlib.axes._subplots.AxesSubplot object at 0x7f65627ac0b8>,\n",
              "        <matplotlib.axes._subplots.AxesSubplot object at 0x7f6562794550>],\n",
              "       [<matplotlib.axes._subplots.AxesSubplot object at 0x7f65627477b8>,\n",
              "        <matplotlib.axes._subplots.AxesSubplot object at 0x7f65626faa20>,\n",
              "        <matplotlib.axes._subplots.AxesSubplot object at 0x7f65626afc88>,\n",
              "        <matplotlib.axes._subplots.AxesSubplot object at 0x7f6562663ef0>,\n",
              "        <matplotlib.axes._subplots.AxesSubplot object at 0x7f6562622198>],\n",
              "       [<matplotlib.axes._subplots.AxesSubplot object at 0x7f6562657438>,\n",
              "        <matplotlib.axes._subplots.AxesSubplot object at 0x7f6562608668>,\n",
              "        <matplotlib.axes._subplots.AxesSubplot object at 0x7f65625bb8d0>,\n",
              "        <matplotlib.axes._subplots.AxesSubplot object at 0x7f6562570b38>,\n",
              "        <matplotlib.axes._subplots.AxesSubplot object at 0x7f6562523da0>],\n",
              "       [<matplotlib.axes._subplots.AxesSubplot object at 0x7f65624e0400>,\n",
              "        <matplotlib.axes._subplots.AxesSubplot object at 0x7f6562511780>,\n",
              "        <matplotlib.axes._subplots.AxesSubplot object at 0x7f6562403b00>,\n",
              "        <matplotlib.axes._subplots.AxesSubplot object at 0x7f65623b7e80>,\n",
              "        <matplotlib.axes._subplots.AxesSubplot object at 0x7f6562374240>]],\n",
              "      dtype=object)"
            ]
          },
          "metadata": {
            "tags": []
          },
          "execution_count": 62
        },
        {
          "output_type": "display_data",
          "data": {
            "image/png": "[encoded data removed]",
            "text/plain": [
              "<Figure size 1080x1440 with 25 Axes>"
            ]
          },
          "metadata": {
            "tags": [],
            "needs_background": "light"
          }
        }
      ]
    },
    {
      "cell_type": "markdown",
      "metadata": {
        "id": "g9Qjm0wZoxma"
      },
      "source": [
        "SPILITING DATA INTO TRAIN AND TEST"
      ]
    },
    {
      "cell_type": "code",
      "metadata": {
        "id": "MCIVXTHwo1N3"
      },
      "source": [
        "x_train,x_test,y_train,y_test=train_test_split(x,y,test_size=0.2,random_state=1)"
      ],
      "execution_count": 63,
      "outputs": []
    },
    {
      "cell_type": "markdown",
      "metadata": {
        "id": "sOOanJt9pFzv"
      },
      "source": [
        "FINDING OPTIMAL VALUE"
      ]
    },
    {
      "cell_type": "code",
      "metadata": {
        "id": "gxyXpeWOpHxh",
        "outputId": "1cfcbae7-001a-4e91-d9c6-3fb8efcd8e05",
        "colab": {
          "base_uri": "https://localhost:8080/",
          "height": 103
        }
      },
      "source": [
        "## NOT RUNNING IT AS IT WILL TAKE LOTS OF TIME. FOR EASE WE WILL TAKE OPTIMAL VALUES AS:\n",
        "#         max_depth=10\n",
        "#         n_estimators=100\n",
        "#         min_samples_leaf=1\n",
        "\"\"\"\n",
        "param_grid = {\n",
        "    'max_depth': [1,5,10,15],\n",
        "    'n_estimators' : [10,100,500,1000],\n",
        "    'min_samples_leaf' : [1,2,3,4,5,10,15,20,30,40,50]\n",
        "    }\n",
        "\n",
        "grid_search = GridSearchCV(estimator=RandomForestClassifier(n_jobs=-1,max_features = 'sqrt'), param_grid=param_grid,cv=10)\n",
        "grid_search.fit(x_train, y_train)\n",
        "\n",
        "print(grid_search.best_params_)\n",
        "\n",
        "optimal_estimators = grid_search.best_params_.get(\"n_estimators\")\n",
        "optimal_depth = grid_search.best_params_.get(\"max_depth\")\n",
        "optimal_leaf = grid_search.best_params_.get(\"min_samples_leaf\")\n",
        "\"\"\""
      ],
      "execution_count": 64,
      "outputs": [
        {
          "output_type": "execute_result",
          "data": {
            "application/vnd.google.colaboratory.intrinsic+json": {
              "type": "string"
            },
            "text/plain": [
              "'\\nparam_grid = {\\n    \\'max_depth\\': [1,5,10,15],\\n    \\'n_estimators\\' : [10,100,500,1000],\\n    \\'min_samples_leaf\\' : [1,2,3,4,5,10,15,20,30,40,50]\\n    }\\n\\ngrid_search = GridSearchCV(estimator=RandomForestClassifier(n_jobs=-1,max_features = \\'sqrt\\'), param_grid=param_grid,cv=10)\\ngrid_search.fit(x_train, y_train)\\n\\nprint(grid_search.best_params_)\\n\\noptimal_estimators = grid_search.best_params_.get(\"n_estimators\")\\noptimal_depth = grid_search.best_params_.get(\"max_depth\")\\noptimal_leaf = grid_search.best_params_.get(\"min_samples_leaf\")\\n'"
            ]
          },
          "metadata": {
            "tags": []
          },
          "execution_count": 64
        }
      ]
    },
    {
      "cell_type": "markdown",
      "metadata": {
        "id": "0Zfz6NUNtK8w"
      },
      "source": [
        "TRAINING THE MODEL"
      ]
    },
    {
      "cell_type": "code",
      "metadata": {
        "id": "Y5qaVhHNsE7w",
        "outputId": "dfd00abc-76a5-4eb9-f11e-da107abaf936",
        "colab": {
          "base_uri": "https://localhost:8080/"
        }
      },
      "source": [
        "## AS WE HAVE NOT RUN PREVIOUS CELL,THEREFORE. FOR EASE WE WILL TAKE OPTIMAL VALUES AS:\n",
        "#         max_depth=10\n",
        "#         n_estimators=100\n",
        "#         min_samples_leaf=1\n",
        "\n",
        "model = RandomForestClassifier(n_estimators=100, max_depth = 10,min_samples_leaf = 1)\n",
        "k_fold = KFold(n_splits=10,random_state=123)\n",
        "model.fit(x_train,y_train)\n"
      ],
      "execution_count": 65,
      "outputs": [
        {
          "output_type": "stream",
          "text": [
            "/usr/local/lib/python3.6/dist-packages/sklearn/model_selection/_split.py:296: FutureWarning: Setting a random_state has no effect since shuffle is False. This will raise an error in 0.24. You should leave random_state to its default (None), or set shuffle=True.\n",
            "  FutureWarning\n"
          ],
          "name": "stderr"
        },
        {
          "output_type": "execute_result",
          "data": {
            "text/plain": [
              "RandomForestClassifier(bootstrap=True, ccp_alpha=0.0, class_weight=None,\n",
              "                       criterion='gini', max_depth=10, max_features='auto',\n",
              "                       max_leaf_nodes=None, max_samples=None,\n",
              "                       min_impurity_decrease=0.0, min_impurity_split=None,\n",
              "                       min_samples_leaf=1, min_samples_split=2,\n",
              "                       min_weight_fraction_leaf=0.0, n_estimators=100,\n",
              "                       n_jobs=None, oob_score=False, random_state=None,\n",
              "                       verbose=0, warm_start=False)"
            ]
          },
          "metadata": {
            "tags": []
          },
          "execution_count": 65
        }
      ]
    },
    {
      "cell_type": "markdown",
      "metadata": {
        "id": "sIkj3LhitvcY"
      },
      "source": [
        "PREDICTION"
      ]
    },
    {
      "cell_type": "code",
      "metadata": {
        "id": "QtKDDLUAtyYs"
      },
      "source": [
        "predictions = cross_val_predict(model,x_test,y_test,cv=k_fold)\n"
      ],
      "execution_count": 66,
      "outputs": []
    },
    {
      "cell_type": "markdown",
      "metadata": {
        "id": "Izxp9iX3t6v0"
      },
      "source": [
        "CONFUSION MATRIX(EVALUTION)"
      ]
    },
    {
      "cell_type": "code",
      "metadata": {
        "id": "zemO9WXNt-nh",
        "outputId": "143ce903-d3c5-4b53-8dfd-926e13104ea9",
        "colab": {
          "base_uri": "https://localhost:8080/"
        }
      },
      "source": [
        "print(confusion_matrix(y_test,predictions))\n",
        "print(accuracy_score(y_test,predictions))\n"
      ],
      "execution_count": 67,
      "outputs": [
        {
          "output_type": "stream",
          "text": [
            "[[820   0]\n",
            " [  0 805]]\n",
            "1.0\n"
          ],
          "name": "stdout"
        }
      ]
    },
    {
      "cell_type": "markdown",
      "metadata": {
        "id": "HaJP6XnEuCq2"
      },
      "source": [
        "VISUALIZING RANDOM FOREST"
      ]
    },
    {
      "cell_type": "code",
      "metadata": {
        "id": "vPPt9khDuGtc",
        "outputId": "5fa6a115-5ae0-4c1f-a176-6f70b396505c",
        "colab": {
          "base_uri": "https://localhost:8080/"
        }
      },
      "source": [
        "features = mushroom.drop(columns=['class'])\n",
        "feature_cols = features.columns\n",
        "feature_cols\n"
      ],
      "execution_count": 68,
      "outputs": [
        {
          "output_type": "execute_result",
          "data": {
            "text/plain": [
              "Index(['cap-shape', 'cap-surface', 'cap-color', 'bruises', 'odor',\n",
              "       'gill-attachment', 'gill-spacing', 'gill-size', 'gill-color',\n",
              "       'stalk-shape', 'stalk-root', 'stalk-surface-above-ring',\n",
              "       'stalk-surface-below-ring', 'stalk-color-above-ring',\n",
              "       'stalk-color-below-ring', 'veil-type', 'veil-color', 'ring-number',\n",
              "       'ring-type', 'spore-print-color', 'population', 'habitat'],\n",
              "      dtype='object')"
            ]
          },
          "metadata": {
            "tags": []
          },
          "execution_count": 68
        }
      ]
    },
    {
      "cell_type": "code",
      "metadata": {
        "id": "n6hHp7PRucLt",
        "outputId": "2f4fb98a-7111-492e-ec9a-58ffc5ed00d3",
        "colab": {
          "base_uri": "https://localhost:8080/"
        }
      },
      "source": [
        "feature_cols = feature_cols.tolist()\n",
        "feature_cols\n"
      ],
      "execution_count": 69,
      "outputs": [
        {
          "output_type": "execute_result",
          "data": {
            "text/plain": [
              "['cap-shape',\n",
              " 'cap-surface',\n",
              " 'cap-color',\n",
              " 'bruises',\n",
              " 'odor',\n",
              " 'gill-attachment',\n",
              " 'gill-spacing',\n",
              " 'gill-size',\n",
              " 'gill-color',\n",
              " 'stalk-shape',\n",
              " 'stalk-root',\n",
              " 'stalk-surface-above-ring',\n",
              " 'stalk-surface-below-ring',\n",
              " 'stalk-color-above-ring',\n",
              " 'stalk-color-below-ring',\n",
              " 'veil-type',\n",
              " 'veil-color',\n",
              " 'ring-number',\n",
              " 'ring-type',\n",
              " 'spore-print-color',\n",
              " 'population',\n",
              " 'habitat']"
            ]
          },
          "metadata": {
            "tags": []
          },
          "execution_count": 69
        }
      ]
    },
    {
      "cell_type": "code",
      "metadata": {
        "id": "sEGcbDOmunXn",
        "outputId": "4cdc50db-2354-4aaf-8eeb-293ab81acd79",
        "colab": {
          "base_uri": "https://localhost:8080/",
          "height": 1000
        }
      },
      "source": [
        "#For visualizing one tree for sample in random Forest\n",
        "import sklearn.tree as tree \n",
        "plt.figure(figsize=(15,10))\n",
        "tree.plot_tree(model.estimators_[0],filled=True)\n"
      ],
      "execution_count": 70,
      "outputs": [
        {
          "output_type": "execute_result",
          "data": {
            "text/plain": [
              "[Text(418.5, 518.8909090909091, 'X[18] <= 0.671\\ngini = 0.498\\nsamples = 4097\\nvalue = [3474, 3025]'),\n",
              " Text(265.390243902439, 469.4727272727273, 'X[8] <= -0.37\\ngini = 0.381\\nsamples = 2034\\nvalue = [813, 2364]'),\n",
              " Text(122.48780487804878, 420.05454545454546, 'X[10] <= 0.839\\ngini = 0.179\\nsamples = 1415\\nvalue = [218, 1980]'),\n",
              " Text(81.65853658536585, 370.6363636363636, 'X[8] <= -1.218\\ngini = 0.081\\nsamples = 1326\\nvalue = [87, 1980]'),\n",
              " Text(40.829268292682926, 321.21818181818185, 'gini = 0.0\\nsamples = 844\\nvalue = [0, 1312]'),\n",
              " Text(122.48780487804878, 321.21818181818185, 'X[11] <= -0.121\\ngini = 0.204\\nsamples = 482\\nvalue = [87, 668]'),\n",
              " Text(81.65853658536585, 271.8, 'gini = 0.0\\nsamples = 425\\nvalue = [0, 668]'),\n",
              " Text(163.3170731707317, 271.8, 'gini = 0.0\\nsamples = 57\\nvalue = [87, 0]'),\n",
              " Text(163.3170731707317, 370.6363636363636, 'gini = 0.0\\nsamples = 89\\nvalue = [131, 0]'),\n",
              " Text(408.29268292682923, 420.05454545454546, 'X[6] <= 0.92\\ngini = 0.477\\nsamples = 619\\nvalue = [595, 384]'),\n",
              " Text(326.6341463414634, 370.6363636363636, 'X[21] <= 2.03\\ngini = 0.306\\nsamples = 307\\nvalue = [88, 379]'),\n",
              " Text(285.8048780487805, 321.21818181818185, 'X[11] <= -0.121\\ngini = 0.12\\nsamples = 262\\nvalue = [26, 379]'),\n",
              " Text(244.97560975609755, 271.8, 'gini = 0.0\\nsamples = 246\\nvalue = [0, 379]'),\n",
              " Text(326.6341463414634, 271.8, 'gini = 0.0\\nsamples = 16\\nvalue = [26, 0]'),\n",
              " Text(367.4634146341463, 321.21818181818185, 'gini = 0.0\\nsamples = 45\\nvalue = [62, 0]'),\n",
              " Text(489.9512195121951, 370.6363636363636, 'X[14] <= 0.894\\ngini = 0.019\\nsamples = 312\\nvalue = [507, 5]'),\n",
              " Text(449.1219512195122, 321.21818181818185, 'gini = 0.0\\nsamples = 308\\nvalue = [507, 0]'),\n",
              " Text(530.780487804878, 321.21818181818185, 'gini = 0.0\\nsamples = 4\\nvalue = [0, 5]'),\n",
              " Text(571.609756097561, 469.4727272727273, 'X[13] <= 0.36\\ngini = 0.319\\nsamples = 2063\\nvalue = [2661, 661]'),\n",
              " Text(530.780487804878, 420.05454545454546, 'gini = 0.0\\nsamples = 703\\nvalue = [1131, 0]'),\n",
              " Text(612.4390243902438, 420.05454545454546, 'X[19] <= -0.88\\ngini = 0.421\\nsamples = 1360\\nvalue = [1530, 661]'),\n",
              " Text(571.609756097561, 370.6363636363636, 'gini = 0.0\\nsamples = 144\\nvalue = [0, 224]'),\n",
              " Text(653.2682926829268, 370.6363636363636, 'X[9] <= -0.136\\ngini = 0.346\\nsamples = 1216\\nvalue = [1530, 437]'),\n",
              " Text(612.4390243902438, 321.21818181818185, 'X[4] <= 0.644\\ngini = 0.439\\nsamples = 828\\nvalue = [909, 437]'),\n",
              " Text(571.609756097561, 271.8, 'X[20] <= -0.115\\ngini = 0.333\\nsamples = 702\\nvalue = [909, 243]'),\n",
              " Text(469.5365853658536, 222.38181818181818, 'X[17] <= 1.589\\ngini = 0.205\\nsamples = 507\\nvalue = [738, 97]'),\n",
              " Text(428.7073170731707, 172.96363636363634, 'X[10] <= 0.368\\ngini = 0.281\\nsamples = 355\\nvalue = [477, 97]'),\n",
              " Text(387.8780487804878, 123.54545454545456, 'gini = 0.0\\nsamples = 56\\nvalue = [0, 97]'),\n",
              " Text(469.5365853658536, 123.54545454545456, 'gini = 0.0\\nsamples = 299\\nvalue = [477, 0]'),\n",
              " Text(510.3658536585366, 172.96363636363634, 'gini = 0.0\\nsamples = 152\\nvalue = [261, 0]'),\n",
              " Text(673.6829268292682, 222.38181818181818, 'X[4] <= -1.02\\ngini = 0.497\\nsamples = 195\\nvalue = [171, 146]'),\n",
              " Text(592.0243902439024, 172.96363636363634, 'X[3] <= 0.171\\ngini = 0.404\\nsamples = 75\\nvalue = [32, 82]'),\n",
              " Text(551.1951219512194, 123.54545454545456, 'gini = 0.0\\nsamples = 52\\nvalue = [0, 82]'),\n",
              " Text(632.8536585365854, 123.54545454545456, 'gini = 0.0\\nsamples = 23\\nvalue = [32, 0]'),\n",
              " Text(755.3414634146342, 172.96363636363634, 'X[21] <= 1.158\\ngini = 0.432\\nsamples = 120\\nvalue = [139, 64]'),\n",
              " Text(714.5121951219512, 123.54545454545456, 'X[2] <= 1.569\\ngini = 0.308\\nsamples = 48\\nvalue = [15, 64]'),\n",
              " Text(673.6829268292682, 74.12727272727273, 'X[12] <= 1.326\\ngini = 0.178\\nsamples = 43\\nvalue = [7, 64]'),\n",
              " Text(632.8536585365854, 24.709090909090946, 'gini = 0.0\\nsamples = 37\\nvalue = [0, 64]'),\n",
              " Text(714.5121951219512, 24.709090909090946, 'gini = 0.0\\nsamples = 6\\nvalue = [7, 0]'),\n",
              " Text(755.3414634146342, 74.12727272727273, 'gini = 0.0\\nsamples = 5\\nvalue = [8, 0]'),\n",
              " Text(796.170731707317, 123.54545454545456, 'gini = 0.0\\nsamples = 72\\nvalue = [124, 0]'),\n",
              " Text(653.2682926829268, 271.8, 'gini = 0.0\\nsamples = 126\\nvalue = [0, 194]'),\n",
              " Text(694.0975609756098, 321.21818181818185, 'gini = 0.0\\nsamples = 388\\nvalue = [621, 0]')]"
            ]
          },
          "metadata": {
            "tags": []
          },
          "execution_count": 70
        },
        {
          "output_type": "display_data",
          "data": {
            "image/png": "[encoded data removed]",
            "text/plain": [
              "<Figure size 1080x720 with 1 Axes>"
            ]
          },
          "metadata": {
            "tags": [],
            "needs_background": "light"
          }
        }
      ]
    },
    {
      "cell_type": "code",
      "metadata": {
        "id": "GOiHGqFHuwnX"
      },
      "source": [
        "# For visualizing all trees in random Forest\n",
        "for i in range(0,len(model.estimators_)):"
      ],
      "execution_count": null,
      "outputs": []
    }
  ]
}